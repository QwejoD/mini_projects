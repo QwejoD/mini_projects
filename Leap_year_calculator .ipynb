{
 "cells": [
  {
   "cell_type": "code",
   "execution_count": 2,
   "id": "076edb31",
   "metadata": {},
   "outputs": [
    {
     "name": "stdout",
     "output_type": "stream",
     "text": [
      "Enter year: 1800\n",
      "1800 is not leap year\n"
     ]
    }
   ],
   "source": [
    "'''The program takes year as input and predicts whether or not that particular year is a leap year'''\n",
    "\n",
    "year=int(input('Enter year: '))\n",
    "\n",
    "if year%4==0:\n",
    "    \n",
    "    if year%100==0 and year%400==0:\n",
    "        print(\"{} is a leap year\".format(year))\n",
    "    elif year%100==0 and year%400!=0:\n",
    "        print(\"{} is not leap year\".format(year))\n",
    "        \n",
    "    else:\n",
    "        print(\"{} is a leap year\".format(year))\n",
    "        \n",
    "    \n",
    "else:\n",
    "    print(\"{} is not a leap year\".format(year))"
   ]
  },
  {
   "cell_type": "code",
   "execution_count": null,
   "id": "01cb00ea",
   "metadata": {},
   "outputs": [],
   "source": []
  },
  {
   "cell_type": "code",
   "execution_count": null,
   "id": "28aa179f",
   "metadata": {},
   "outputs": [],
   "source": []
  }
 ],
 "metadata": {
  "kernelspec": {
   "display_name": "Python 3",
   "language": "python",
   "name": "python3"
  },
  "language_info": {
   "codemirror_mode": {
    "name": "ipython",
    "version": 3
   },
   "file_extension": ".py",
   "mimetype": "text/x-python",
   "name": "python",
   "nbconvert_exporter": "python",
   "pygments_lexer": "ipython3",
   "version": "3.8.8"
  }
 },
 "nbformat": 4,
 "nbformat_minor": 5
}
