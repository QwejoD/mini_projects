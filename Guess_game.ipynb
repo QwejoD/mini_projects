{
 "cells": [
  {
   "cell_type": "code",
   "execution_count": null,
   "id": "96c088b3",
   "metadata": {},
   "outputs": [],
   "source": [
    "'''Guess game.\n",
    "Ask players to guess any integer between 1 and 10 and prints whether guess was right or wrong\n",
    "'''\n",
    "from random import randint \n",
    "random_number=randint(1,10)\n",
    "guess=int(input(\"Pls enter any number between 1 and 10: \"))\n",
    "if random_number==guess:\n",
    "    print(\"you got it\")\n",
    "    print(\"random number was: \", random_number)\n",
    "else:\n",
    "    print(\"Guess incorrect, try again\")\n",
    "    print(\"random number was: \", random_number)"
   ]
  }
 ],
 "metadata": {
  "kernelspec": {
   "display_name": "Python 3",
   "language": "python",
   "name": "python3"
  },
  "language_info": {
   "codemirror_mode": {
    "name": "ipython",
    "version": 3
   },
   "file_extension": ".py",
   "mimetype": "text/x-python",
   "name": "python",
   "nbconvert_exporter": "python",
   "pygments_lexer": "ipython3",
   "version": "3.8.8"
  }
 },
 "nbformat": 4,
 "nbformat_minor": 5
}
