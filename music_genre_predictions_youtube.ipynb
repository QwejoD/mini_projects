{
 "cells": [
  {
   "cell_type": "code",
   "execution_count": 7,
   "id": "3ffc59ed",
   "metadata": {},
   "outputs": [],
   "source": [
    "'''The dataset for this project was randomly generate\n",
    "\n",
    "'''\n",
    "\n",
    "\n",
    "import pandas as pd\n",
    "\n",
    "\n",
    "\n",
    "music_df =pd.read_csv(\"C:/Users/BOSS/Desktop/ML/ML_projects/Music_pred/music.csv\")"
   ]
  },
  {
   "cell_type": "code",
   "execution_count": 26,
   "id": "c56ed9a7",
   "metadata": {},
   "outputs": [],
   "source": [
    "'''Spliting the data into the input set and the output set \n",
    "\n",
    "inputset are the independent variables \n",
    "\n",
    "where the outputset is the dependentvariable\n",
    "\n",
    "the outputset here is the genre(y)\n",
    "\n",
    "'''\n",
    "#Independent variables \n",
    "X = music_df.drop( columns=[\"genre\"])\n",
    "\n",
    "#dependent variable\n",
    "y = music_df[\"genre\"]\n"
   ]
  },
  {
   "cell_type": "code",
   "execution_count": 27,
   "id": "14e263e0",
   "metadata": {},
   "outputs": [],
   "source": [
    "'''Spliting the data into training set and testing set \n",
    "\n",
    "'''\n",
    "\n",
    "\n",
    "from sklearn.model_selection import train_test_split\n",
    "\n",
    "X_train, X_test, y_train_labels, y_test_labels = train_test_split(X, y, test_size=0.2, random_state=42)\n",
    "\n"
   ]
  },
  {
   "cell_type": "code",
   "execution_count": 37,
   "id": "9ce5b789",
   "metadata": {},
   "outputs": [],
   "source": [
    "'''The model chosen for training is the decission tree classifier in scikit learn\n",
    "'''\n",
    "\n",
    "from sklearn.tree import DecisionTreeClassifier\n",
    "\n",
    "dTree = DecisionTreeClassifier()\n",
    "\n",
    "model = dTree.fit(X_train, y_train_labels)"
   ]
  },
  {
   "cell_type": "code",
   "execution_count": null,
   "id": "1361a5cc",
   "metadata": {},
   "outputs": [],
   "source": []
  },
  {
   "cell_type": "code",
   "execution_count": 38,
   "id": "a4c6a955",
   "metadata": {},
   "outputs": [
    {
     "data": {
      "text/plain": [
       "array(['HipHop', 'HipHop', 'Classical', 'Jazz'], dtype=object)"
      ]
     },
     "execution_count": 38,
     "metadata": {},
     "output_type": "execute_result"
    }
   ],
   "source": [
    "predictions =model.predict(X_test)\n",
    "\n",
    "predictions"
   ]
  },
  {
   "cell_type": "code",
   "execution_count": 39,
   "id": "415b450c",
   "metadata": {},
   "outputs": [
    {
     "name": "stdout",
     "output_type": "stream",
     "text": [
      "1.0\n"
     ]
    }
   ],
   "source": [
    "'''Evaluating the models accuracy'''\n",
    "\n",
    "from sklearn.metrics import accuracy_score\n",
    "\n",
    "accuracy = accuracy_score(y_test_labels,predictions)\n",
    "\n",
    "print(accuracy)\n"
   ]
  },
  {
   "cell_type": "code",
   "execution_count": null,
   "id": "3f493d6d",
   "metadata": {},
   "outputs": [],
   "source": []
  },
  {
   "cell_type": "code",
   "execution_count": null,
   "id": "1f7675c7",
   "metadata": {},
   "outputs": [],
   "source": []
  },
  {
   "cell_type": "code",
   "execution_count": null,
   "id": "87323766",
   "metadata": {},
   "outputs": [],
   "source": []
  }
 ],
 "metadata": {
  "kernelspec": {
   "display_name": "Python 3",
   "language": "python",
   "name": "python3"
  },
  "language_info": {
   "codemirror_mode": {
    "name": "ipython",
    "version": 3
   },
   "file_extension": ".py",
   "mimetype": "text/x-python",
   "name": "python",
   "nbconvert_exporter": "python",
   "pygments_lexer": "ipython3",
   "version": "3.8.8"
  }
 },
 "nbformat": 4,
 "nbformat_minor": 5
}
