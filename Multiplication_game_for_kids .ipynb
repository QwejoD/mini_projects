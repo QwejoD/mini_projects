{
 "cells": [
  {
   "cell_type": "code",
   "execution_count": 2,
   "id": "82e28089",
   "metadata": {},
   "outputs": [
    {
     "name": "stdout",
     "output_type": "stream",
     "text": [
      "Question 1: 9 x 1 = 34\n",
      "Wrong. The answer is 9.\n",
      "Question 2: 1 x 9 = 5\n",
      "Wrong. The answer is 9.\n",
      "Question 3: 10 x 10 = 7\n",
      "Wrong. The answer is 100.\n",
      "Question 4: 1 x 3 = 3\n",
      "Right!\n",
      "Question 5: 2 x 3 = 45\n",
      "Wrong. The answer is 6.\n",
      "Question 6: 3 x 10 = 6\n",
      "Wrong. The answer is 30.\n",
      "Question 7: 9 x 9 = 4\n",
      "Wrong. The answer is 81.\n",
      "Question 8: 6 x 2 = 3\n",
      "Wrong. The answer is 12.\n",
      "Question 9: 5 x 10 = 2\n",
      "Wrong. The answer is 50.\n",
      "Question 10: 1 x 3 = 3\n",
      "Right!\n"
     ]
    }
   ],
   "source": [
    "'''A multiplication game program for kids. The program gives the player ten randomly generated multiplication questions to do.\n",
    "And tells the players whether they were right or wrong.\n",
    "'''\n",
    "\n",
    "from random import randint\n",
    "\n",
    "for i in range(1,11):\n",
    "        a=randint(1,10)\n",
    "        b=randint(1,10)\n",
    "\n",
    "        print(\"Question {}: {} x {} = \".format(i,a,b), end=\"\")\n",
    "        ans=eval(input(\"\"))\n",
    "        if ans == (a*b):\n",
    "            print(\"Right!\")\n",
    "        else: \n",
    "            print(\"Wrong. The answer is {}.\".format(a*b))"
   ]
  },
  {
   "cell_type": "code",
   "execution_count": null,
   "id": "edde1338",
   "metadata": {},
   "outputs": [],
   "source": []
  }
 ],
 "metadata": {
  "kernelspec": {
   "display_name": "Python 3",
   "language": "python",
   "name": "python3"
  },
  "language_info": {
   "codemirror_mode": {
    "name": "ipython",
    "version": 3
   },
   "file_extension": ".py",
   "mimetype": "text/x-python",
   "name": "python",
   "nbconvert_exporter": "python",
   "pygments_lexer": "ipython3",
   "version": "3.8.8"
  }
 },
 "nbformat": 4,
 "nbformat_minor": 5
}
